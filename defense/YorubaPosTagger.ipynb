{
 "cells": [
  {
   "cell_type": "markdown",
   "metadata": {},
   "source": [
    "### YORUBA POS TAGGER MODEL TRAINING \n",
    "\n",
    "##### THE FOLLOWING STEPS WERE FOLLOWED\n",
    "\n",
    "##### 1. IMPORT AND VIEW DATA\n",
    "\n",
    "##### 2. DATA PREPROCESSING: ENCODING WITH TFID VECTORIZER FOR FEATURES AND LABEL BINARIZER FOR TARGET AND CHECK FOR MISSING DATA\n",
    "\n",
    "##### 3. TRAINING : USING ARTIFICIAL NEURAL NETWORK\n",
    "\n",
    "##### 4.  EVALUATE MODEL WITH CONFUSION MATRIX AND  PREDICTION\n",
    "\n",
    "##### 5. SAVE MODEL WITH PICKLE\n",
    "\n",
    "\n",
    "\n",
    "\n",
    "\n"
   ]
  },
  {
   "cell_type": "markdown",
   "metadata": {},
   "source": [
    "### 1. IMPORT AND  VIEW DATA"
   ]
  },
  {
   "cell_type": "markdown",
   "metadata": {},
   "source": [
    "#### import libraries used"
   ]
  },
  {
   "cell_type": "code",
   "execution_count": 2,
   "metadata": {},
   "outputs": [],
   "source": [
    "import pandas as pd\n",
    "import numpy as np\n",
    "from sklearn.feature_extraction.text import TfidfVectorizer\n",
    "from sklearn.model_selection import train_test_split\n",
    "import pickle\n"
   ]
  },
  {
   "cell_type": "code",
   "execution_count": 3,
   "metadata": {},
   "outputs": [
    {
     "data": {
      "text/html": [
       "<div>\n",
       "<style scoped>\n",
       "    .dataframe tbody tr th:only-of-type {\n",
       "        vertical-align: middle;\n",
       "    }\n",
       "\n",
       "    .dataframe tbody tr th {\n",
       "        vertical-align: top;\n",
       "    }\n",
       "\n",
       "    .dataframe thead th {\n",
       "        text-align: right;\n",
       "    }\n",
       "</style>\n",
       "<table border=\"1\" class=\"dataframe\">\n",
       "  <thead>\n",
       "    <tr style=\"text-align: right;\">\n",
       "      <th></th>\n",
       "      <th>words</th>\n",
       "      <th>tag</th>\n",
       "    </tr>\n",
       "  </thead>\n",
       "  <tbody>\n",
       "    <tr>\n",
       "      <td>0</td>\n",
       "      <td>Ó</td>\n",
       "      <td>Prn</td>\n",
       "    </tr>\n",
       "    <tr>\n",
       "      <td>1</td>\n",
       "      <td>lọ</td>\n",
       "      <td>V</td>\n",
       "    </tr>\n",
       "    <tr>\n",
       "      <td>2</td>\n",
       "      <td>sí</td>\n",
       "      <td>PP</td>\n",
       "    </tr>\n",
       "    <tr>\n",
       "      <td>3</td>\n",
       "      <td>ilé-ẹ̀kọ́</td>\n",
       "      <td>N</td>\n",
       "    </tr>\n",
       "    <tr>\n",
       "      <td>4</td>\n",
       "      <td>Pọ́ọ̀lù</td>\n",
       "      <td>N</td>\n",
       "    </tr>\n",
       "    <tr>\n",
       "      <td>5</td>\n",
       "      <td>mímọ́</td>\n",
       "      <td>Adj</td>\n",
       "    </tr>\n",
       "    <tr>\n",
       "      <td>6</td>\n",
       "      <td>ní</td>\n",
       "      <td>PP</td>\n",
       "    </tr>\n",
       "    <tr>\n",
       "      <td>7</td>\n",
       "      <td>Ayétòrò</td>\n",
       "      <td>N</td>\n",
       "    </tr>\n",
       "    <tr>\n",
       "      <td>8</td>\n",
       "      <td>Lẹ́yìn</td>\n",
       "      <td>PP</td>\n",
       "    </tr>\n",
       "    <tr>\n",
       "      <td>9</td>\n",
       "      <td>tí</td>\n",
       "      <td>Det</td>\n",
       "    </tr>\n",
       "  </tbody>\n",
       "</table>\n",
       "</div>"
      ],
      "text/plain": [
       "       words  tag\n",
       "0          Ó  Prn\n",
       "1         lọ    V\n",
       "2         sí   PP\n",
       "3  ilé-ẹ̀kọ́    N\n",
       "4    Pọ́ọ̀lù    N\n",
       "5      mímọ́  Adj\n",
       "6         ní   PP\n",
       "7    Ayétòrò    N\n",
       "8     Lẹ́yìn   PP\n",
       "9         tí  Det"
      ]
     },
     "execution_count": 3,
     "metadata": {},
     "output_type": "execute_result"
    }
   ],
   "source": [
    "#load in dataset\n",
    "df=pd.read_excel('NewYorubaTag.xlsx')\n",
    "#view dataset\n",
    "df.head(10)"
   ]
  },
  {
   "cell_type": "code",
   "execution_count": 4,
   "metadata": {},
   "outputs": [
    {
     "name": "stdout",
     "output_type": "stream",
     "text": [
      "total rows 11575\n",
      "total columns 2\n"
     ]
    }
   ],
   "source": [
    "# Get indexes where name column have value Num\n",
    "indexNames = df[(df['tag'] == 'Num')|(df['tag'] == 'Int')].index # Delete these row indexes from dataFrame\n",
    "df.drop(indexNames , inplace=True)\n",
    "# total amount of rows and columns\n",
    "total_rows=len(df.axes[0])\n",
    "print(\"total rows\", total_rows)\n",
    "total_cols=len(df.axes[1])\n",
    "print(\"total columns\", total_cols)"
   ]
  },
  {
   "cell_type": "markdown",
   "metadata": {},
   "source": [
    "### 2. DATA PREPROCESSING : ENCODING WITH TFID VECTORIZER FOR FEATURES AND LABEL BINARIZER FOR TARGET AND CHECK FOR MISSING DATA"
   ]
  },
  {
   "cell_type": "markdown",
   "metadata": {},
   "source": [
    "#### check for missing data\n",
    "#### false :means no missing data"
   ]
  },
  {
   "cell_type": "code",
   "execution_count": 5,
   "metadata": {},
   "outputs": [
    {
     "name": "stdout",
     "output_type": "stream",
     "text": [
      "False\n"
     ]
    }
   ],
   "source": [
    "df=df.dropna()\n",
    "Missing_data= df.isnull().any().any()  \n",
    "print(Missing_data)"
   ]
  },
  {
   "cell_type": "markdown",
   "metadata": {},
   "source": [
    "#### then SPLIT DATA INTO 80% FOR TRAIN DATA AND 20 % FOR TEST DATA"
   ]
  },
  {
   "cell_type": "code",
   "execution_count": 6,
   "metadata": {},
   "outputs": [
    {
     "name": "stdout",
     "output_type": "stream",
     "text": [
      "Number of labels in Entire Data\n",
      "N       3098\n",
      "Prn     1933\n",
      "V       1777\n",
      "Det     1384\n",
      "Adj     1115\n",
      "PP      1113\n",
      "Adv      797\n",
      "Conj     356\n",
      "dtype: int64\n",
      "Number of labels in y_test\n",
      "N       2495\n",
      "Prn     1531\n",
      "V       1407\n",
      "Det     1098\n",
      "PP       897\n",
      "Adj      893\n",
      "Adv      648\n",
      "Conj     289\n",
      "Name: tag, dtype: int64\n",
      "Number of labels in y_train\n",
      "N       603\n",
      "Prn     402\n",
      "V       370\n",
      "Det     286\n",
      "Adj     222\n",
      "PP      216\n",
      "Adv     149\n",
      "Conj     67\n",
      "Name: tag, dtype: int64\n",
      "Number of Training Sample:  (9258,)\n",
      "Number of Training label:  (9258,)\n",
      "Number of Test Sample:  (2315,)\n",
      "Number of Test label:  (2315,)\n"
     ]
    }
   ],
   "source": [
    "#split data\n",
    "data_count = pd.value_counts(df['tag'].values)\n",
    "print(\"Number of labels in Entire Data\")\n",
    "print(data_count)\n",
    "X_train, X_test, y_train, y_test = train_test_split(df['words'], df['tag'], test_size=0.2\n",
    "                                                   )\n",
    "X_train=X_train.astype(str)\n",
    "X_test=X_test.astype(str)\n",
    "y_train_count = y_train.value_counts()\n",
    "y_test_count = y_test.value_counts()\n",
    "print(\"Number of labels in y_test\")\n",
    "print(y_train_count)\n",
    "print(\"Number of labels in y_train\")\n",
    "print(y_test_count)\n",
    "print(\"Number of Training Sample: \",X_train.shape)\n",
    "print(\"Number of Training label: \",y_train.shape)\n",
    "print(\"Number of Test Sample: \",X_test.shape)\n",
    "print(\"Number of Test label: \",y_test.shape)"
   ]
  },
  {
   "cell_type": "code",
   "execution_count": 7,
   "metadata": {},
   "outputs": [],
   "source": [
    "test_label_count = y_test"
   ]
  },
  {
   "cell_type": "markdown",
   "metadata": {},
   "source": [
    "#### view some features we will encode with tfidvectorizer"
   ]
  },
  {
   "cell_type": "code",
   "execution_count": 8,
   "metadata": {},
   "outputs": [
    {
     "data": {
      "text/plain": [
       "2925        tí\n",
       "11195     nkan\n",
       "4649     pẹ̀lú\n",
       "8876         ń\n",
       "46          ni\n",
       "Name: words, dtype: object"
      ]
     },
     "execution_count": 8,
     "metadata": {},
     "output_type": "execute_result"
    }
   ],
   "source": [
    "X_train[:5]"
   ]
  },
  {
   "cell_type": "markdown",
   "metadata": {},
   "source": [
    "### using tfidvectorizer to encode Features of data\n",
    "\n",
    "#### TfidfVectorizer - Transforms text to feature vectors that can be used as input to estimator. "
   ]
  },
  {
   "cell_type": "code",
   "execution_count": 9,
   "metadata": {},
   "outputs": [],
   "source": [
    "# IMPORT TfidfVectorizer()\n",
    "from sklearn.feature_extraction.text import TfidfVectorizer\n",
    "vectorizer = TfidfVectorizer()\n",
    "\n",
    "#convert data to string and loop\n",
    "corpus = [str (X_train) for item in X_train]\n",
    "\n",
    "#apply the tfidvectorizer to training features: x_train\n",
    "Xx = vectorizer.fit_transform((corpus))\n",
    "\n",
    "#print(Xx.shape)"
   ]
  },
  {
   "cell_type": "markdown",
   "metadata": {},
   "source": [
    "### using label binarizer for encoding targets of data"
   ]
  },
  {
   "cell_type": "code",
   "execution_count": 10,
   "metadata": {},
   "outputs": [
    {
     "name": "stdout",
     "output_type": "stream",
     "text": [
      "the targets we want to predict are\n",
      "['Adj' 'Adv' 'Conj' 'Det' 'N' 'PP' 'Prn' 'V']\n",
      "the targets encoding are\n",
      "[[0 0 0 ... 0 1 0]\n",
      " [1 0 0 ... 0 0 0]\n",
      " [0 0 0 ... 0 0 0]\n",
      " ...\n",
      " [0 0 0 ... 1 0 0]\n",
      " [1 0 0 ... 0 0 0]\n",
      " [0 0 0 ... 0 0 0]]\n"
     ]
    }
   ],
   "source": [
    "from sklearn import preprocessing\n",
    "lb = preprocessing.LabelBinarizer()\n",
    "#number of classes we want to predict\n",
    "yyy=lb.fit_transform(y_train.astype(str))\n",
    "\n",
    "print (\"the targets we want to predict are\")\n",
    "print (lb.classes_)\n",
    "\n",
    "print (\"the targets encoding are\")\n",
    "print (yyy)\n"
   ]
  },
  {
   "cell_type": "markdown",
   "metadata": {},
   "source": [
    "###  Model Implementation"
   ]
  },
  {
   "cell_type": "code",
   "execution_count": 11,
   "metadata": {},
   "outputs": [
    {
     "name": "stdout",
     "output_type": "stream",
     "text": [
      "accuracy of the ANN model on the test data set: 0.5263555843594729\n"
     ]
    }
   ],
   "source": [
    "from sklearn.pipeline import Pipeline\n",
    "from sklearn.neural_network import MLPClassifier\n",
    "pipeline = Pipeline([('vect', TfidfVectorizer(ngram_range=(1, 2), stop_words=\"english\", sublinear_tf=True)),\n",
    "                     \n",
    "                     ('clf', MLPClassifier(hidden_layer_sizes=100, activation='relu', solver='adam', alpha=0.0001, \n",
    "                                batch_size='auto', learning_rate='constant', learning_rate_init=0.001, \n",
    "                                max_iter=1000, shuffle=True,\n",
    "                                random_state=8, early_stopping=False))])\n",
    "\n",
    "\n",
    "#Xx=Xx.dropna()\n",
    "y_train= y_train.dropna()\n",
    "\n",
    "Xx= X_train\n",
    "\n",
    "model = pipeline.fit(Xx, y_train)\n",
    "\n",
    "\n",
    "\n",
    "\n",
    "\n",
    "\n",
    "\n",
    "\n",
    "print(\"accuracy of the ANN model on the test data set: \" + str(model.score(Xx, y_train)))\n",
    "\n"
   ]
  },
  {
   "cell_type": "code",
   "execution_count": 12,
   "metadata": {},
   "outputs": [
    {
     "name": "stdout",
     "output_type": "stream",
     "text": [
      "accuracy of the ANN model on the test data set: 0.5935205183585314\n"
     ]
    }
   ],
   "source": [
    "model2 = pipeline.fit(X_test, y_test)\n",
    "print(\"accuracy of the ANN model on the test data set: \" + str(model2.score(X_test, y_test)))"
   ]
  },
  {
   "cell_type": "markdown",
   "metadata": {},
   "source": [
    "### 4.  EVALUATE MODEL WITH CONFUSION MATRIX AND  PREDICTION"
   ]
  },
  {
   "cell_type": "markdown",
   "metadata": {},
   "source": [
    "#### PREDICTION FOR THE FIRST 5 ROWS OF THE TEST DATASET"
   ]
  },
  {
   "cell_type": "code",
   "execution_count": 13,
   "metadata": {},
   "outputs": [
    {
     "name": "stdout",
     "output_type": "stream",
     "text": [
      "['Det' 'N' 'Adv' 'N' 'Prn']\n"
     ]
    }
   ],
   "source": [
    "print(model.predict(X_test)[:5])"
   ]
  },
  {
   "cell_type": "code",
   "execution_count": 14,
   "metadata": {},
   "outputs": [],
   "source": [
    "from sklearn.metrics import confusion_matrix\n",
    "predictions = model.predict(X_test)"
   ]
  },
  {
   "cell_type": "code",
   "execution_count": 15,
   "metadata": {
    "scrolled": false
   },
   "outputs": [
    {
     "data": {
      "text/plain": [
       "<Figure size 648x648 with 0 Axes>"
      ]
     },
     "metadata": {},
     "output_type": "display_data"
    },
    {
     "data": {
      "image/png": "[encoded data removed]",
      "text/plain": [
       "<Figure size 720x432 with 2 Axes>"
      ]
     },
     "metadata": {
      "needs_background": "light"
     },
     "output_type": "display_data"
    }
   ],
   "source": [
    "import matplotlib.pyplot as plt\n",
    "from sklearn.utils.multiclass import unique_labels\n",
    "def plot_confusion_matrix(y_true, y_pred, classes,\n",
    "                          title=None,\n",
    "                          cmap=plt.cm.Reds):\n",
    "    # Compute confusion matrix\n",
    "    cm = confusion_matrix(y_true, y_pred)\n",
    "    # Only use the labels that appear in the data\n",
    "    classes = list(unique_labels(y_true, y_pred))\n",
    "    # print(cm)\n",
    "\n",
    "    fig, ax = plt.subplots(figsize = (10,6))\n",
    "    im = ax.imshow(cm, interpolation='nearest', cmap=cmap)\n",
    "    ax.figure.colorbar(im, ax=ax)\n",
    "    # show all ticks...\n",
    "    ax.set(xticks=np.arange(cm.shape[1]),\n",
    "           yticks=np.arange(cm.shape[0]),\n",
    "           # ... and label them with the respective list entries\n",
    "           xticklabels=classes, yticklabels=classes,\n",
    "           title=title,\n",
    "           ylabel='Actual label',\n",
    "           xlabel='Predicted label')\n",
    "\n",
    "    # Rotate the tick labels and set their alignment.\n",
    "    plt.setp(ax.get_xticklabels(), rotation=45, ha=\"right\",\n",
    "             rotation_mode=\"anchor\")\n",
    "    # Loop over data dimensions and create text annotations.\n",
    "    fmt = 'd'\n",
    "    thresh = cm.max() / 2.\n",
    "    for i in range(cm.shape[0]):\n",
    "        for j in range(cm.shape[1]):\n",
    "            ax.text(j, i, format(cm[i, j], fmt),\n",
    "                    ha=\"center\", va=\"center\",\n",
    "                    color=\"white\" if cm[i, j] > thresh else \"black\")\n",
    "    fig.tight_layout()\n",
    "    return ax\n",
    "\n",
    "# Plot non-normalized confusion matrix\n",
    "plt.figure(figsize=(9,9))\n",
    "class_label = ['Adj', 'Adv', 'Conj', 'Det', 'N','PP','Prn', 'V']\n",
    "plot_confusion_matrix(y_test, predictions,classes = class_label,title='Confusion matrix table on test set')  \n",
    "plt.show()\n"
   ]
  },
  {
   "cell_type": "markdown",
   "metadata": {},
   "source": [
    "### CONFUSION MATRIX"
   ]
  },
  {
   "cell_type": "code",
   "execution_count": 16,
   "metadata": {},
   "outputs": [
    {
     "name": "stdout",
     "output_type": "stream",
     "text": [
      "              precision    recall  f1-score   support\n",
      "\n",
      "         Adj       0.58      0.44      0.50       222\n",
      "         Adv       0.64      0.38      0.47       149\n",
      "        Conj       0.70      0.48      0.57        67\n",
      "         Det       0.65      0.55      0.60       286\n",
      "           N       0.65      0.74      0.69       603\n",
      "          PP       0.65      0.52      0.58       216\n",
      "         Prn       0.55      0.58      0.57       402\n",
      "           V       0.49      0.65      0.56       370\n",
      "\n",
      "    accuracy                           0.59      2315\n",
      "   macro avg       0.61      0.54      0.57      2315\n",
      "weighted avg       0.60      0.59      0.59      2315\n",
      "\n"
     ]
    }
   ],
   "source": [
    "from sklearn.metrics import classification_report\n",
    "print(classification_report(y_test, predictions))"
   ]
  },
  {
   "cell_type": "markdown",
   "metadata": {},
   "source": [
    "### 5. SAVE MODEL WITH PICKLE"
   ]
  },
  {
   "cell_type": "markdown",
   "metadata": {},
   "source": [
    "### saving and using your trained model with pickle"
   ]
  },
  {
   "cell_type": "code",
   "execution_count": 17,
   "metadata": {},
   "outputs": [],
   "source": [
    "#To save the model\n",
    "import pickle\n",
    "pickle_out = open(\"yoruba.pickle\",\"wb\")\n",
    "pickle.dump(model, pickle_out)\n",
    "pickle_out.close()"
   ]
  },
  {
   "cell_type": "code",
   "execution_count": 18,
   "metadata": {},
   "outputs": [],
   "source": [
    "# saving and using your trained model\n",
    "import pickle\n",
    "pickle_in = open(\"yoruba.pickle\",\"rb\")\n",
    "model = pickle.load(pickle_in)"
   ]
  },
  {
   "cell_type": "markdown",
   "metadata": {},
   "source": [
    "### Outcome of prediction after validation"
   ]
  },
  {
   "cell_type": "code",
   "execution_count": 19,
   "metadata": {},
   "outputs": [
    {
     "name": "stdout",
     "output_type": "stream",
     "text": [
      "['N']\n"
     ]
    }
   ],
   "source": [
    "splitted3 = \"èdè\"\n",
    "splitted3=splitted3.split()\n",
    "print (model.predict(splitted3))"
   ]
  },
  {
   "cell_type": "code",
   "execution_count": 20,
   "metadata": {},
   "outputs": [
    {
     "name": "stdout",
     "output_type": "stream",
     "text": [
      "['N' 'PP' 'N']\n"
     ]
    }
   ],
   "source": [
    "splitted2 = \"Kọ́lá naa Akínlàdé \"\n",
    "splitted2=splitted2.split()\n",
    "print (model.predict(splitted2))\n"
   ]
  },
  {
   "cell_type": "code",
   "execution_count": 21,
   "metadata": {},
   "outputs": [
    {
     "name": "stdout",
     "output_type": "stream",
     "text": [
      "['N' 'V' 'V']\n"
     ]
    }
   ],
   "source": [
    "splitted2 = \"Akínlàdé n jeun \"\n",
    "splitted2=splitted2.split()\n",
    "print (model.predict(splitted2))"
   ]
  },
  {
   "cell_type": "code",
   "execution_count": 22,
   "metadata": {},
   "outputs": [
    {
     "name": "stdout",
     "output_type": "stream",
     "text": [
      "['Det' 'V' 'Prn']\n"
     ]
    }
   ],
   "source": [
    "splitted2 = \"ọ̀kan nii won\"\n",
    "splitted2=splitted2.split()\n",
    "print (model.predict(splitted2))"
   ]
  },
  {
   "cell_type": "code",
   "execution_count": 23,
   "metadata": {},
   "outputs": [
    {
     "name": "stdout",
     "output_type": "stream",
     "text": [
      "['N' 'V' 'V']\n"
     ]
    }
   ],
   "source": [
    "splitted2 = \"Akínlàdé n jeun\"\n",
    "splitted2=splitted2.split()\n",
    "print (model.predict(splitted2))"
   ]
  },
  {
   "cell_type": "code",
   "execution_count": 27,
   "metadata": {},
   "outputs": [
    {
     "name": "stdout",
     "output_type": "stream",
     "text": [
      "['N' 'V' 'V']\n"
     ]
    }
   ],
   "source": [
    "splitted2 = \"Kọ́lá n lo\"\n",
    "splitted2=splitted2.split()\n",
    "print (model.predict(splitted2))"
   ]
  },
  {
   "cell_type": "code",
   "execution_count": 31,
   "metadata": {},
   "outputs": [
    {
     "name": "stdout",
     "output_type": "stream",
     "text": [
      "['N' 'N']\n"
     ]
    }
   ],
   "source": [
    "splitted2 = \"ilẹ̀ Kọ́lá\"\n",
    "splitted2=splitted2.split()\n",
    "print (model.predict(splitted2))"
   ]
  },
  {
   "cell_type": "code",
   "execution_count": null,
   "metadata": {},
   "outputs": [],
   "source": []
  },
  {
   "cell_type": "code",
   "execution_count": null,
   "metadata": {},
   "outputs": [],
   "source": []
  }
 ],
 "metadata": {
  "kernelspec": {
   "display_name": "Python 3",
   "language": "python",
   "name": "python3"
  },
  "language_info": {
   "codemirror_mode": {
    "name": "ipython",
    "version": 3
   },
   "file_extension": ".py",
   "mimetype": "text/x-python",
   "name": "python",
   "nbconvert_exporter": "python",
   "pygments_lexer": "ipython3",
   "version": "3.7.4"
  }
 },
 "nbformat": 4,
 "nbformat_minor": 2
}
